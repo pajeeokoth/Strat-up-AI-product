{
 "cells": [
  {
   "cell_type": "code",
   "execution_count": null,
   "metadata": {},
   "outputs": [],
   "source": [
    "import numpy as np\n",
    "import pandas as pd\n",
    "import warnings\n",
    "warnings.filterwarnings('ignore')\n",
    "pd.set_option('display.float_format', lambda x: '{:,.2f}'.format(x))"
   ]
  },
  {
   "cell_type": "markdown",
   "metadata": {},
   "source": [
    "<h1><center> “Good Dinner AI”</center></h1>\n",
    "<h3>Use case</h3>\n",
    "\n",
    "“As a user of Good Dinner, I can:\n",
    "* post reviews in the form of comments.\n",
    "* post photos taken in the restaurant.”\n",
    "\n",
    "“As Good Dinner, I wish to:\n",
    "* Detect the topics of dissatisfaction in the comments posted on the platform.\n",
    "* Automatically label photos posted on the platform. For example, identifying photos related to food or decor inside or outside the restaurant.” \n",
    "\n",
    "<h3>Scope of the project</h3>\n",
    "Preliminary study of feature “Detect the topics of dissatisfaction” and “Automatically label posted photos”\n",
    "\n",
    "<h3>Dataset and Data Collection</h3>\n",
    "\n",
    "* Problem: Insufficient data available on the Good Dinner platform.\n",
    "* Solution: Use an existing dataset.\n",
    ">> * Link to the dataset: https://www.yelp.com/dataset (Contains general information (e.g., type of cuisine) and consumer reviews of different restaurants) \n",
    ">> * To fetch new data use the yelp API\n",
    "\n",
    "<h3> Methodology and process</h3>\n",
    "\n",
    "* analyze the comments in order to detect topics of dissatisfaction:\n",
    ">> * pre-process text data\n",
    ">> * use dimension reduction techniques\n",
    ">> * visualize high-dimensional data\n",
    "* analyze photos in order to determine their categories \n",
    ">> * pre-process images\n",
    ">> * use dimension reduction techniques\n",
    ">> * visualize high-dimensional data\n",
    "* collect sample collection (approximately 200 restaurants) of data via the Yelp API:\n",
    ">> * retrieve only the necessary fields\n",
    ">> * store the results in a usable file format (e.g., csv)\n",
    "<h3>Tools</h3>\n",
    "\n",
    "* Python and specialized NLP/CV libraries\n",
    "* Jupyter Notebook and Voilà package"
   ]
  }
 ],
 "metadata": {
  "kernelspec": {
   "display_name": "Python 3",
   "language": "python",
   "name": "python3"
  },
  "language_info": {
   "name": "python",
   "version": "3.10.13"
  }
 },
 "nbformat": 4,
 "nbformat_minor": 2
}
